{
 "cells": [
  {
   "cell_type": "markdown",
   "id": "1d78cf76",
   "metadata": {},
   "source": [
    "# While Loop"
   ]
  },
  {
   "cell_type": "code",
   "execution_count": 2,
   "id": "17d23a04",
   "metadata": {},
   "outputs": [
    {
     "name": "stdout",
     "output_type": "stream",
     "text": [
      "1\n",
      "2\n",
      "3\n",
      "4\n",
      "5\n",
      "6\n",
      "7\n",
      "8\n",
      "9\n",
      "10\n",
      "Looping is done\n"
     ]
    }
   ],
   "source": [
    "i=1\n",
    "while i<=10:\n",
    "    print(i)\n",
    "    i += 1\n",
    "print(\"Looping is done\")"
   ]
  },
  {
   "cell_type": "markdown",
   "id": "8fed7e4b",
   "metadata": {},
   "source": [
    "# A Guessing Name"
   ]
  },
  {
   "cell_type": "code",
   "execution_count": 6,
   "id": "44141829",
   "metadata": {
    "scrolled": true
   },
   "outputs": [
    {
     "name": "stdout",
     "output_type": "stream",
     "text": [
      "Enter guess: giraffe\n",
      "You win!\n"
     ]
    }
   ],
   "source": [
    "secret_word = \"giraffe\"\n",
    "guess = \"\"\n",
    "guess_count = 0\n",
    "guess_limit = 3\n",
    "out_of_guesses = False\n",
    "\n",
    "while guess != secret_word and not(out_of_guesses):\n",
    "    if guess_count < guess_limit:\n",
    "        guess = input(\"Enter guess: \")\n",
    "        guess_count += 1\n",
    "    else: \n",
    "        out_of_guesses = True\n",
    "\n",
    "if out_of_guesses:\n",
    "    print(\"You lose\")\n",
    "else:\n",
    "    print(\"You win!\")"
   ]
  },
  {
   "cell_type": "markdown",
   "id": "53d79946",
   "metadata": {},
   "source": [
    "# For Loop"
   ]
  },
  {
   "cell_type": "code",
   "execution_count": 7,
   "id": "1d4613d5",
   "metadata": {},
   "outputs": [
    {
     "name": "stdout",
     "output_type": "stream",
     "text": [
      "Jim\n",
      "John\n",
      "Kevin\n"
     ]
    }
   ],
   "source": [
    "friends = [\"Jim\", \"John\", \"Kevin\"]\n",
    "\n",
    "for friend in friends:\n",
    "    print(friend)\n"
   ]
  },
  {
   "cell_type": "markdown",
   "id": "22c73c3a",
   "metadata": {},
   "source": [
    "# Exponent Fucnction"
   ]
  },
  {
   "cell_type": "code",
   "execution_count": 9,
   "id": "708dd7ff",
   "metadata": {},
   "outputs": [
    {
     "name": "stdout",
     "output_type": "stream",
     "text": [
      "36\n"
     ]
    }
   ],
   "source": [
    "def raise_to_power(base_num, pow_num):\n",
    "    result = 1\n",
    "    for index in range(pow_num):\n",
    "        result = result * base_num\n",
    "    return result\n",
    "    \n",
    "print(raise_to_power(6,2))"
   ]
  },
  {
   "cell_type": "markdown",
   "id": "05b26df6",
   "metadata": {},
   "source": [
    "# 2d Lists"
   ]
  },
  {
   "cell_type": "code",
   "execution_count": 12,
   "id": "52020849",
   "metadata": {},
   "outputs": [
    {
     "name": "stdout",
     "output_type": "stream",
     "text": [
      "1\n",
      "2\n",
      "3\n",
      "4\n",
      "5\n",
      "6\n",
      "7\n",
      "8\n",
      "9\n",
      "0\n"
     ]
    }
   ],
   "source": [
    "number_grid = [\n",
    "    [1,2,3],\n",
    "    [4,5,6],\n",
    "    [7,8,9],\n",
    "    [0]\n",
    "]\n",
    "\n",
    "#print(number_grid[1][2])\n",
    "\n",
    "for row in number_grid:\n",
    "    for col in row:\n",
    "        print(col)"
   ]
  },
  {
   "cell_type": "markdown",
   "id": "d432f041",
   "metadata": {},
   "source": [
    "# Building Translator"
   ]
  },
  {
   "cell_type": "code",
   "execution_count": 19,
   "id": "f4a42b1c",
   "metadata": {},
   "outputs": [
    {
     "name": "stdout",
     "output_type": "stream",
     "text": [
      "Eneter a phrase: On\n",
      "Gn\n"
     ]
    }
   ],
   "source": [
    "def translate(phrase):\n",
    "    translation = \"\"\n",
    "    for letter in phrase:\n",
    "        if letter.lower() in \"aeiou\":\n",
    "            if letter.isupper():\n",
    "                translation = translation + \"G\"\n",
    "            else:\n",
    "                translation = translation + \"n\"\n",
    "        else:\n",
    "            translation = translation + letter\n",
    "    return translation\n",
    "\n",
    "print(translate(input(\"Eneter a phrase: \")))\n",
    "    "
   ]
  },
  {
   "cell_type": "markdown",
   "id": "6e4048ea",
   "metadata": {},
   "source": [
    "# Try / Except"
   ]
  },
  {
   "cell_type": "code",
   "execution_count": 21,
   "id": "55d32cb6",
   "metadata": {
    "scrolled": false
   },
   "outputs": [
    {
     "name": "stdout",
     "output_type": "stream",
     "text": [
      "Enter a number: fdfd\n",
      "Invalid input\n"
     ]
    }
   ],
   "source": [
    "try:\n",
    "    number = int(input(\"Enter a number: \"))\n",
    "    print(number)\n",
    "except ZeroDivisionError as err:\n",
    "    print(err)\n",
    "except ValueError:\n",
    "    print(\"Invalid input\")"
   ]
  },
  {
   "cell_type": "markdown",
   "id": "b02de06c",
   "metadata": {},
   "source": [
    "# Reading Files"
   ]
  },
  {
   "cell_type": "code",
   "execution_count": null,
   "id": "21b109bf",
   "metadata": {},
   "outputs": [],
   "source": [
    "open(\"employees.txt\", \"r\") # read\n",
    "open(\"employees.txt\", \"w\") # write - overwrite\n",
    "open(\"employees.txt\", \"a\") # append \n",
    "open(\"employees.txt\", \"r+\") # read and write"
   ]
  },
  {
   "cell_type": "code",
   "execution_count": null,
   "id": "012e01ba",
   "metadata": {},
   "outputs": [],
   "source": [
    "employee_file - open(\"employees.txt\", \"r\")\n",
    "\n",
    "print(employee_file.readable()) #check if file is readable\n",
    "print(employee_file.read()) # read the file \n",
    "print(employee_file.readline()) # read first line\n",
    "print(employee_file.readlines()) # read as an array\n",
    "print(employee_file.readlines()[1]) # read 2nd item in array\n",
    "\n",
    "\n",
    "employee_file.close()"
   ]
  },
  {
   "cell_type": "code",
   "execution_count": null,
   "id": "225ded46",
   "metadata": {},
   "outputs": [],
   "source": [
    "employee_file - open(\"employees.txt\", \"r\")\n",
    "for employee in employee_file.readlines():\n",
    "    print(employee)\n",
    "\n",
    "employee_file.close()"
   ]
  },
  {
   "cell_type": "markdown",
   "id": "50cc3e59",
   "metadata": {},
   "source": [
    "# Writing to Files"
   ]
  },
  {
   "cell_type": "code",
   "execution_count": null,
   "id": "c7766d56",
   "metadata": {},
   "outputs": [],
   "source": [
    "employee_file - open(\"employees.txt\", \"a\")\n",
    "\n",
    "employee_file.write(\"\\nToby - Human Resources\") # \\n - new line\n",
    "\n",
    "employee_file.close()"
   ]
  },
  {
   "cell_type": "markdown",
   "id": "fbd052c5",
   "metadata": {},
   "source": [
    "# Modules and Pip"
   ]
  },
  {
   "cell_type": "code",
   "execution_count": null,
   "id": "f5dbb5f3",
   "metadata": {},
   "outputs": [],
   "source": [
    "useful_tools.py"
   ]
  },
  {
   "cell_type": "code",
   "execution_count": null,
   "id": "2dd10ac7",
   "metadata": {},
   "outputs": [],
   "source": [
    "import useful_tools\n",
    "\n",
    "print(useful_tools.roll_dice(10))\n",
    "\n",
    "# https://docs.python.org/3/py-modindex.html"
   ]
  },
  {
   "cell_type": "markdown",
   "id": "4bfc3835",
   "metadata": {},
   "source": [
    "# Classes & Objects"
   ]
  },
  {
   "cell_type": "code",
   "execution_count": null,
   "id": "76fde03f",
   "metadata": {},
   "outputs": [],
   "source": [
    "# Student.py\n",
    "\n",
    "class Student:\n",
    "    \n",
    "    def __init__(self, name, major, gpa, is_on_probation):\n",
    "        self.name = name\n",
    "        self.major = major\n",
    "        self.gpa = gpa\n",
    "        self.is_on_probation = is_on_probation "
   ]
  },
  {
   "cell_type": "code",
   "execution_count": null,
   "id": "5d376d7f",
   "metadata": {},
   "outputs": [],
   "source": [
    "# Represent Student data type\n",
    "\n",
    "from Student import Student\n",
    "\n",
    "student1 = Student(\"Jim\", \"Business\", 3.1, False)\n",
    "student2 = Student(\"Pam\", \"Art\", 2.5, True)\n",
    "\n",
    "print(student1.name) # print name of student1\n",
    "print(student1.gpa)\n",
    "\n",
    "print(student2.name)\n",
    "print(student2.gpa)"
   ]
  },
  {
   "cell_type": "markdown",
   "id": "25e82b83",
   "metadata": {},
   "source": [
    "# Building a Multiple Choice Quiz"
   ]
  },
  {
   "cell_type": "code",
   "execution_count": 6,
   "id": "1a59e1ba",
   "metadata": {},
   "outputs": [],
   "source": [
    "# Question.py\n",
    "\n",
    "class Question:\n",
    "    def __init__(self, prompt, answer):\n",
    "        self.prompt = prompt\n",
    "        self.answer = answer"
   ]
  },
  {
   "cell_type": "code",
   "execution_count": 13,
   "id": "7d742cd9",
   "metadata": {
    "scrolled": false
   },
   "outputs": [
    {
     "name": "stdout",
     "output_type": "stream",
     "text": [
      "What color are apples?\n",
      "(a) Red/Green\n",
      "(b) Purple\n",
      "(c) Orange\n",
      "\n",
      "b\n",
      "What color are bananas?\n",
      "(a) Teal\n",
      "(b) Magenta\n",
      "(c) Yellow\n",
      "\n",
      "c\n",
      "What color are strawberries?\n",
      "(a) Yellow\n",
      "(b) Red\n",
      "(c) Blue\n",
      "\n",
      "a\n",
      "You got 1/3 correct\n"
     ]
    }
   ],
   "source": [
    "class Question:\n",
    "    def __init__(self, prompt, answer):\n",
    "        self.prompt = prompt\n",
    "        self.answer = answer\n",
    "\n",
    "\n",
    "#from Question import Question\n",
    "\n",
    "question_prompts = [\n",
    "    \"What color are apples?\\n(a) Red/Green\\n(b) Purple\\n(c) Orange\\n\\n\",\n",
    "    \"What color are bananas?\\n(a) Teal\\n(b) Magenta\\n(c) Yellow\\n\\n\",\n",
    "    \"What color are strawberries?\\n(a) Yellow\\n(b) Red\\n(c) Blue\\n\\n\"\n",
    "]\n",
    "\n",
    "questions = [\n",
    "    Question(question_prompts[0],\"a\"),\n",
    "    Question(question_prompts[1],\"c\"),\n",
    "    Question(question_prompts[2],\"b\"),\n",
    "]\n",
    "\n",
    "def run_test(questions):\n",
    "    score = 0\n",
    "    for question in questions:\n",
    "        answer = input(question.prompt)\n",
    "        if answer == question.answer:\n",
    "            score += 1\n",
    "    print(\"You got \" + str(score) + \"/\" + str(len(questions))+\" correct\")\n",
    "\n",
    "run_test(questions)"
   ]
  },
  {
   "cell_type": "markdown",
   "id": "70132777",
   "metadata": {},
   "source": [
    "# Object Functions"
   ]
  },
  {
   "cell_type": "code",
   "execution_count": null,
   "id": "e70fdb16",
   "metadata": {},
   "outputs": [],
   "source": [
    "# Student.py\n",
    "\n",
    "class Student:\n",
    "    \n",
    "    def __init__(self, name, major, gpa):\n",
    "        self.name = name\n",
    "        self.major = major\n",
    "        self.gpa = gpa\n",
    "    def on_honor_roll(self):\n",
    "        if self.gpa >= 3.5:\n",
    "            return True\n",
    "        else:\n",
    "            return False\n",
    "        "
   ]
  },
  {
   "cell_type": "code",
   "execution_count": null,
   "id": "655b131f",
   "metadata": {},
   "outputs": [],
   "source": [
    "from Student import Student\n",
    "\n",
    "student1 = Student(\"Oscar\", \"Accounting\", 3.1)\n",
    "student2 = Student(\"Bob\", \"Business\", 3.8)\n",
    "\n",
    "print(student1,on_honor_roll())"
   ]
  },
  {
   "cell_type": "markdown",
   "id": "74bbffad",
   "metadata": {},
   "source": [
    "# Inheritance"
   ]
  },
  {
   "cell_type": "code",
   "execution_count": null,
   "id": "e3d0868a",
   "metadata": {},
   "outputs": [],
   "source": [
    "# Chef.py\n",
    "\n",
    "class Chef:\n",
    "    \n",
    "    def make_chicken(self):\n",
    "        print(\"The chef makes a chicken\")\n",
    "        \n",
    "    def make_salad(self):\n",
    "        print(\"The chef makes a salad\")\n",
    "        \n",
    "    def make_special_dish(self):\n",
    "        print(\"The chef makes a bbq ribs\")"
   ]
  },
  {
   "cell_type": "code",
   "execution_count": null,
   "id": "4f24d884",
   "metadata": {},
   "outputs": [],
   "source": [
    "# ChineseChef.py\n",
    "\n",
    "class ChineseChef:\n",
    "    \n",
    "    def make_chicken(self):\n",
    "        print(\"The chef makes a chicken\")\n",
    "        \n",
    "    def make_salad(self):\n",
    "        print(\"The chef makes a salad\")\n",
    "        \n",
    "    def make_special_dish(self):\n",
    "        print(\"The chef makes a orange chicken\")\n",
    "    \n",
    "    def make_fried_rice(self):\n",
    "        print(\"The chef makes fried rice\")"
   ]
  },
  {
   "cell_type": "code",
   "execution_count": null,
   "id": "8031f32d",
   "metadata": {},
   "outputs": [],
   "source": [
    "# ChineseChef.py\n",
    "\n",
    "import Chef from Chef\n",
    "\n",
    "class ChineseChef(Chef): #Inherit from Chef\n",
    "    \n",
    "    def make_fried_rice(self):\n",
    "        print(\"The chef makes fried rice\")"
   ]
  },
  {
   "cell_type": "code",
   "execution_count": null,
   "id": "7cda7be8",
   "metadata": {},
   "outputs": [],
   "source": [
    "# App.py\n",
    "\n",
    "from Chef import Chef\n",
    "from ChineseChef import ChineseChef\n",
    "\n",
    "myChef = Chef()\n",
    "myChef.make_special_dish()\n",
    "\n",
    "myChineseChef = ChineseChef()\n",
    "myChineseChef.make_special_dish()"
   ]
  }
 ],
 "metadata": {
  "kernelspec": {
   "display_name": "Python 3 (ipykernel)",
   "language": "python",
   "name": "python3"
  },
  "language_info": {
   "codemirror_mode": {
    "name": "ipython",
    "version": 3
   },
   "file_extension": ".py",
   "mimetype": "text/x-python",
   "name": "python",
   "nbconvert_exporter": "python",
   "pygments_lexer": "ipython3",
   "version": "3.10.2"
  }
 },
 "nbformat": 4,
 "nbformat_minor": 5
}
